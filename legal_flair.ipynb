{
 "cells": [
  {
   "cell_type": "markdown",
   "metadata": {
    "janus": {
     "all_versions_showing": false,
     "cell_hidden": false,
     "current_version": 0,
     "id": "0d34ab80a44d1",
     "named_versions": [],
     "output_hidden": false,
     "show_versions": false,
     "source_hidden": false,
     "versions": []
    }
   },
   "source": [
    "# 2020"
   ]
  },
  {
   "cell_type": "code",
   "execution_count": 20,
   "metadata": {
    "janus": {
     "all_versions_showing": false,
     "cell_hidden": false,
     "current_version": 0,
     "id": "8a4e2fe5df011",
     "named_versions": [],
     "output_hidden": false,
     "show_versions": false,
     "source_hidden": false,
     "versions": []
    }
   },
   "outputs": [],
   "source": [
    "import pandas as pd\n",
    "from collections import Counter\n",
    "import json\n",
    "import os\n",
    "\n",
    "json_path = os.getcwd() + \"/pretty_outfile_2019.json\"\n",
    "\n",
    "def loadJSON(json_path):\n",
    "    with open(json_path, \"r\") as f:\n",
    "        json_object = json.load(f)\n",
    "    return json_object\n",
    "\n",
    "def showFlairDist(json_path):\n",
    "    json_object = loadJSON(json_path)\n",
    "    docs = json_object['data']\n",
    "\n",
    "    # print()\n",
    "    # print(docs[-1])\n",
    "\n",
    "    numClassified = 0\n",
    "    flair_dict = Counter()\n",
    "\n",
    "    for doc in docs:\n",
    "        cls = doc.get(\"link_flair_text\")\n",
    "        if cls:\n",
    "            flair_dict[cls] += 1\n",
    "\n",
    "    for k, v in flair_dict.most_common():\n",
    "        print('{0: <40} {1: >10}'.format(k, v))\n",
    "\n",
    "    print(\"all data\", len(docs))\n",
    "    print(\"flaired data\", sum(flair_dict.values()))\n",
    "    print(\"number of flairs\", len(flair_dict))"
   ]
  },
  {
   "cell_type": "code",
   "execution_count": 22,
   "metadata": {
    "janus": {
     "all_versions_showing": false,
     "cell_hidden": false,
     "current_version": 0,
     "id": "7ce42819b380c",
     "named_versions": [],
     "output_hidden": false,
     "show_versions": false,
     "source_hidden": false,
     "versions": []
    }
   },
   "outputs": [
    {
     "name": "stdout",
     "output_type": "stream",
     "text": [
      "Employment Law                                 2704\n",
      "Landlord Tenant Housing                        2625\n",
      "Other Civil Matters                            1504\n",
      "Custody Divorce and Family                     1442\n",
      "Criminal Law                                   1070\n",
      "Traffic and Parking                             986\n",
      "School Related Issues                           683\n",
      "Business Law                                    666\n",
      "Computer and Internet                           664\n",
      "Real Estate law                                 601\n",
      "Non-US                                          550\n",
      "Contracts                                       527\n",
      "Canada                                          480\n",
      "Insurance                                       471\n",
      "Juvenile and Youth Law                          463\n",
      "Intellectual Property                           460\n",
      "Tax Law                                         446\n",
      "Consumer Law                                    438\n",
      "Wills Trusts and Estates                        435\n",
      "Douche                                          373\n",
      "Medicine and Malpractice                        363\n",
      "Personal Injury                                 343\n",
      "Immigration                                     306\n",
      "Healthcare Law including HIPAA                  298\n",
      "Small Claims Procedure                          296\n",
      "Drug Possession                                 265\n",
      "Labor Law (Unions)                              237\n",
      "Credit Debt Bankruptcy                          218\n",
      "Disability Issues                               193\n",
      "CPS and Dependency Law                          191\n",
      "DUI                                             140\n",
      "Alcohol Related Other than DUI                  119\n",
      "Constitution                                    105\n",
      "Background Checks and Expungements              102\n",
      "Searches and Seizures                            65\n",
      "Treaties and International Law                   33\n",
      "Megathread                                       25\n",
      "Mod Post                                          2\n",
      "all data 77811\n",
      "flaired data 20889\n",
      "number of flairs 38\n"
     ]
    }
   ],
   "source": [
    "json_path = os.getcwd() + \"/pretty_outfile_2020.json\"\n",
    "showFlairDist(json_path)"
   ]
  },
  {
   "cell_type": "markdown",
   "metadata": {
    "janus": {
     "all_versions_showing": false,
     "cell_hidden": false,
     "current_version": 0,
     "id": "66f93080f6898",
     "named_versions": [],
     "output_hidden": false,
     "show_versions": false,
     "source_hidden": false,
     "versions": []
    }
   },
   "source": [
    "# 2019"
   ]
  },
  {
   "cell_type": "code",
   "execution_count": 23,
   "metadata": {
    "janus": {
     "all_versions_showing": false,
     "cell_hidden": false,
     "current_version": 0,
     "id": "3e2ef2ba627d",
     "named_versions": [],
     "output_hidden": false,
     "show_versions": false,
     "source_hidden": false,
     "versions": []
    }
   },
   "outputs": [
    {
     "name": "stdout",
     "output_type": "stream",
     "text": [
      "Landlord Tenant Housing                        6771\n",
      "Employment Law                                 5222\n",
      "Custody Divorce and Family                     4126\n",
      "Other Civil Matters                            3706\n",
      "Traffic and Parking                            3287\n",
      "Criminal Law                                   2516\n",
      "School Related Issues                          1807\n",
      "Business Law                                   1625\n",
      "Real Estate law                                1545\n",
      "Canada                                         1505\n",
      "Non-US                                         1500\n",
      "Computer and Internet                          1498\n",
      "Juvenile and Youth Law                         1490\n",
      "Contracts                                      1405\n",
      "Insurance                                      1386\n",
      "Wills Trusts and Estates                       1127\n",
      "Personal Injury                                1073\n",
      "Consumer Law                                   1065\n",
      "Intellectual Property                          1054\n",
      "Medicine and Malpractice                        931\n",
      "Douche                                          923\n",
      "Small Claims Procedure                          863\n",
      "Drug Possession                                 774\n",
      "Immigration                                     729\n",
      "Credit Debt Bankruptcy                          665\n",
      "Healthcare Law including HIPAA                  639\n",
      "Disability Issues                               565\n",
      "Tax Law                                         555\n",
      "Labor Law (Unions)                              535\n",
      "Alcohol Related Other than DUI                  531\n",
      "CPS and Dependency Law                          499\n",
      "DUI                                             437\n",
      "Background Checks and Expungements              292\n",
      "Constitution                                    191\n",
      "Searches and Seizures                           151\n",
      "Treaties and International Law                   75\n",
      "Megathread                                       41\n",
      "Mod Post                                         14\n",
      "all data 255340\n",
      "flaired data 53118\n",
      "number of flairs 38\n"
     ]
    }
   ],
   "source": [
    "json_path = os.getcwd() + \"/pretty_outfile_2019.json\"\n",
    "showFlairDist(json_path)"
   ]
  },
  {
   "cell_type": "markdown",
   "metadata": {
    "janus": {
     "all_versions_showing": false,
     "cell_hidden": false,
     "current_version": 0,
     "id": "df2cf975bde07",
     "named_versions": [],
     "output_hidden": false,
     "show_versions": false,
     "source_hidden": false,
     "versions": []
    }
   },
   "source": [
    "# 2018"
   ]
  },
  {
   "cell_type": "code",
   "execution_count": 24,
   "metadata": {
    "janus": {
     "all_versions_showing": false,
     "cell_hidden": false,
     "current_version": 0,
     "id": "e1bae409080e4",
     "named_versions": [],
     "output_hidden": false,
     "show_versions": false,
     "source_hidden": false,
     "versions": []
    }
   },
   "outputs": [
    {
     "name": "stdout",
     "output_type": "stream",
     "text": [
      "Landlord Tenant Housing                        3361\n",
      "Employment Law                                 2541\n",
      "Custody Divorce and Family                     1940\n",
      "Other Civil Matters                            1747\n",
      "Traffic and Parking                            1573\n",
      "Criminal Law                                   1340\n",
      "School Related Issues                           887\n",
      "Business Law                                    830\n",
      "Real Estate law                                 828\n",
      "Computer and Internet                           820\n",
      "Canada                                          764\n",
      "Insurance                                       739\n",
      "Contracts                                       707\n",
      "Juvenile and Youth Law                          639\n",
      "Wills Trusts and Estates                        630\n",
      "Non-US                                          608\n",
      "Personal Injury                                 549\n",
      "Intellectual Property                           515\n",
      "Consumer Law                                    513\n",
      "Douche                                          504\n",
      "Drug Possession                                 487\n",
      "Small Claims Procedure                          419\n",
      "Medicine and Malpractice                        410\n",
      "Immigration                                     368\n",
      "Credit Debt Bankruptcy                          325\n",
      "Tax Law                                         305\n",
      "Healthcare Law including HIPAA                  298\n",
      "Disability Issues                               277\n",
      "Labor Law (Unions)                              258\n",
      "Alcohol Related Other than DUI                  242\n",
      "CPS and Dependency Law                          196\n",
      "DUI                                             186\n",
      "Background Checks and Expungements              141\n",
      "Constitution                                    115\n",
      "Searches and Seizures                            83\n",
      "Treaties and International Law                   39\n",
      "Megathread                                       24\n",
      "Mod Post                                          2\n",
      "Mental Disability                                 1\n",
      "all data 188357\n",
      "flaired data 26211\n",
      "number of flairs 39\n"
     ]
    }
   ],
   "source": [
    "json_path = os.getcwd() + \"/pretty_outfile_2018.json\"\n",
    "showFlairDist(json_path)"
   ]
  },
  {
   "cell_type": "markdown",
   "metadata": {
    "janus": {
     "all_versions_showing": false,
     "cell_hidden": false,
     "current_version": 0,
     "id": "a2a1f02fad345",
     "named_versions": [],
     "output_hidden": false,
     "show_versions": false,
     "source_hidden": false,
     "versions": []
    }
   },
   "source": [
    "# 2017"
   ]
  },
  {
   "cell_type": "code",
   "execution_count": 26,
   "metadata": {
    "janus": {
     "all_versions_showing": false,
     "cell_hidden": false,
     "current_version": 0,
     "id": "d317b0d886569",
     "named_versions": [],
     "output_hidden": false,
     "show_versions": false,
     "source_hidden": false,
     "versions": []
    }
   },
   "outputs": [
    {
     "name": "stdout",
     "output_type": "stream",
     "text": [
      "Landlord Tenant Housing                        2010\n",
      "Employment Law                                 1344\n",
      "Other Civil Matters                            1174\n",
      "Traffic and Parking                             967\n",
      "Custody Divorce and Family                      840\n",
      "Criminal Law                                    751\n",
      "Real Estate law                                 525\n",
      "Removed                                         507\n",
      "Business Law                                    457\n",
      "Contracts                                       429\n",
      "Consumer Law                                    408\n",
      "Computer and Internet                           399\n",
      "Insurance                                       391\n",
      "Troll Post                                      358\n",
      "Intellectual Property                           357\n",
      "Canada                                          322\n",
      "Wills Trusts and Estates                        321\n",
      "School Related Issues                           318\n",
      "Removed - PII                                   287\n",
      "Personal Injury                                 282\n",
      "Juvenile and Youth Law                          277\n",
      "Small Claims Procedure                          275\n",
      "Credit Debt Bankruptcy                          240\n",
      "Non-US                                          221\n",
      "Immigration                                     216\n",
      "Drug Possession                                 212\n",
      "Off Topic                                       212\n",
      "Douche                                          196\n",
      "Medicine and Malpractice                        185\n",
      "Tax Law                                         155\n",
      "Labor Law (Unions)                              139\n",
      "Alcohol Related Other than DUI                  138\n",
      "Healthcare Law including HIPAA                  132\n",
      "PII                                             131\n",
      "DUI                                             124\n",
      "CPS and Dependency Law                          110\n",
      "Disability Issues                               101\n",
      "Background Checks and Expungements               92\n",
      "Constitution                                     44\n",
      "Advertising                                      42\n",
      "Searches and Seizures                            37\n",
      "Removed Troll Post                               24\n",
      "Treaties and International Law                   22\n",
      "Removed - political post                         19\n",
      "Illegal                                          17\n",
      "Off Topic Removed                                16\n",
      "Megathread                                       15\n",
      "Removed - PII Removed                            13\n",
      "Mod Post                                          3\n",
      "Removed PII                                       3\n",
      "LIVE!                                             2\n",
      "Removed - political post Removed                  2\n",
      "Off Topic Troll Post                              2\n",
      "Off Topic Removed - PII                           2\n",
      "MAGAthread                                        1\n",
      "Illegal Removed Troll Post                        1\n",
      "School                                            1\n",
      "Advertising Removed                               1\n",
      "Illegal Removed PII                               1\n",
      "Probably troll but better than Trump news           1\n",
      "Shitty Troll                                      1\n",
      "Zapopaed                                          1\n",
      "Personal Attack                                   1\n",
      "Removed - PII Removed - political post            1\n",
      "Illegal Removed                                   1\n",
      "Personal Attack Removed                           1\n",
      "megathread                                        1\n",
      "Off Topic Advertising                             1\n",
      "all data 133515\n",
      "flaired data 15880\n",
      "number of flairs 68\n"
     ]
    }
   ],
   "source": [
    "json_path = os.getcwd() + \"/pretty_outfile_2017.json\"\n",
    "showFlairDist(json_path)"
   ]
  },
  {
   "cell_type": "markdown",
   "metadata": {
    "janus": {
     "all_versions_showing": false,
     "cell_hidden": false,
     "current_version": 0,
     "id": "677d4f410fb6f",
     "named_versions": [],
     "output_hidden": false,
     "show_versions": false,
     "source_hidden": false,
     "versions": []
    }
   },
   "source": [
    "# 2016"
   ]
  },
  {
   "cell_type": "code",
   "execution_count": 27,
   "metadata": {
    "janus": {
     "all_versions_showing": false,
     "cell_hidden": false,
     "current_version": 0,
     "id": "2e10559f53d22",
     "named_versions": [],
     "output_hidden": false,
     "show_versions": false,
     "source_hidden": false,
     "versions": []
    }
   },
   "outputs": [
    {
     "name": "stdout",
     "output_type": "stream",
     "text": [
      "Landlord Tenant Housing                        1197\n",
      "Other Civil Matters                             828\n",
      "Employment Law                                  738\n",
      "Traffic and Parking                             525\n",
      "Criminal Law                                    419\n",
      "Custody Divorce and Family                      409\n",
      "Removed                                         398\n",
      "Troll Post                                      345\n",
      "Intellectual Property                           321\n",
      "Real Estate law                                 301\n",
      "Contracts                                       269\n",
      "Business Law                                    258\n",
      "Removed - PII                                   252\n",
      "Computer and Internet                           229\n",
      "Insurance                                       224\n",
      "Consumer Law                                    223\n",
      "Wills Trusts and Estates                        204\n",
      "School Related Issues                           184\n",
      "Small Claims Procedure                          180\n",
      "Credit Debt Bankruptcy                          153\n",
      "Drug Possession                                 143\n",
      "Personal Injury                                 127\n",
      "Canada                                          126\n",
      "Juvenile and Youth Law                          124\n",
      "Douche                                          120\n",
      "Non-US                                          112\n",
      "Immigration                                     108\n",
      "Medicine and Malpractice                         96\n",
      "Alcohol Related Other than DUI                   95\n",
      "Off Topic                                        89\n",
      "Tax Law                                          88\n",
      "DUI                                              74\n",
      "Healthcare Law including HIPAA                   70\n",
      "Labor Law (Unions)                               65\n",
      "Background Checks and Expungements               64\n",
      "Advertising                                      64\n",
      "Disability Issues                                59\n",
      "PII                                              54\n",
      "CPS and Dependency Law                           50\n",
      "Labor Law                                        49\n",
      "Constitution                                     38\n",
      "Searches and Seizures                            30\n",
      "Treaties and International Law                   19\n",
      "Megathread                                       18\n",
      "International                                    11\n",
      "Off Topic Removed                                10\n",
      "Removed - PII Removed                             9\n",
      "Removed Troll Post                                9\n",
      "Illegal                                           7\n",
      "Personal Attack                                   4\n",
      "Removed PII                                       3\n",
      "Illegal Troll Post                                2\n",
      "LIVE!                                             2\n",
      "Locked                                            1\n",
      "Employment Law (including discrimination, sexual harassment)          1\n",
      "Illegal Removed Troll Post                        1\n",
      "OP Is A Douche                                    1\n",
      "Mod Post                                          1\n",
      "Advertising Off Topic                             1\n",
      "Off Topic Removed Troll Post                      1\n",
      "Top Tier Shitpost                                 1\n",
      "Bad Advice                                        1\n",
      "Misrepresentation                                 1\n",
      "Off Topic Troll Post                              1\n",
      "all data 109926\n",
      "flaired data 9607\n",
      "number of flairs 64\n"
     ]
    }
   ],
   "source": [
    "json_path = os.getcwd() + \"/pretty_outfile_2016.json\"\n",
    "showFlairDist(json_path)"
   ]
  },
  {
   "cell_type": "markdown",
   "metadata": {
    "janus": {
     "all_versions_showing": false,
     "cell_hidden": false,
     "current_version": 0,
     "id": "40a8c6480eb9c",
     "named_versions": [],
     "output_hidden": false,
     "show_versions": false,
     "source_hidden": false,
     "versions": []
    }
   },
   "source": [
    "# 2015"
   ]
  },
  {
   "cell_type": "code",
   "execution_count": 28,
   "metadata": {
    "janus": {
     "all_versions_showing": false,
     "cell_hidden": false,
     "current_version": 0,
     "id": "e823625ef5bc",
     "named_versions": [],
     "output_hidden": false,
     "show_versions": false,
     "source_hidden": false,
     "versions": []
    }
   },
   "outputs": [
    {
     "name": "stdout",
     "output_type": "stream",
     "text": [
      "Landlord Tenant Housing                        2358\n",
      "Other Civil Matters                            1859\n",
      "Labor Law                                      1300\n",
      "Traffic and Parking                            1094\n",
      "Custody Divorce and Family                      915\n",
      "Criminal Law                                    882\n",
      "Business Law                                    813\n",
      "Contracts                                       794\n",
      "Real Estate law                                 626\n",
      "Intellectual Property                           624\n",
      "Computer and Internet                           559\n",
      "Wills Trusts and Estates                        453\n",
      "Insurance                                       449\n",
      "School Related Issues                           365\n",
      "Douche                                          357\n",
      "Personal Injury                                 337\n",
      "Credit Debt Bankruptcy                          318\n",
      "Drug Possession                                 279\n",
      "Medicine and Malpractice                        224\n",
      "Immigration                                     218\n",
      "Alcohol Related Other than DUI                  214\n",
      "Tax Law                                         155\n",
      "Healthcare Law including HIPAA                  142\n",
      "DUI                                             137\n",
      "Background Checks and Expungements              132\n",
      "Disability Issues                               121\n",
      "Searches and Seizures                            87\n",
      "Constitution                                     67\n",
      "Troll Post                                       43\n",
      "Removed                                          40\n",
      "Removed - PII                                    37\n",
      "Advertising                                      26\n",
      "Off Topic                                        18\n",
      "PII                                               7\n",
      "Illegal                                           4\n",
      "Mod Post                                          3\n",
      "Locked                                            3\n",
      "Removed Troll Post                                2\n",
      "Removed - PII Removed                             1\n",
      "Illegal Troll Post                                1\n",
      "Removed PII                                       1\n",
      "Illegal Removed                                   1\n",
      "all data 82517\n",
      "flaired data 16066\n",
      "number of flairs 42\n"
     ]
    }
   ],
   "source": [
    "json_path = os.getcwd() + \"/pretty_outfile_2015.json\"\n",
    "showFlairDist(json_path)"
   ]
  },
  {
   "cell_type": "markdown",
   "metadata": {
    "janus": {
     "all_versions_showing": false,
     "cell_hidden": false,
     "current_version": 0,
     "id": "0e64a085370aa",
     "named_versions": [],
     "output_hidden": false,
     "show_versions": false,
     "source_hidden": false,
     "versions": []
    }
   },
   "source": [
    "# 2014"
   ]
  },
  {
   "cell_type": "code",
   "execution_count": 29,
   "metadata": {
    "janus": {
     "all_versions_showing": false,
     "cell_hidden": false,
     "current_version": 0,
     "id": "cae805c56018d",
     "named_versions": [],
     "output_hidden": false,
     "show_versions": false,
     "source_hidden": false,
     "versions": []
    }
   },
   "outputs": [
    {
     "name": "stdout",
     "output_type": "stream",
     "text": [
      "Landlord Tenant Housing                        1067\n",
      "Other Civil Matters                             875\n",
      "Criminal Law                                    567\n",
      "Traffic and Parking                             549\n",
      "Labor Law                                       547\n",
      "Custody Divorce and Family                      448\n",
      "Business Law                                    360\n",
      "Contracts                                       342\n",
      "Computer and Internet                           277\n",
      "Real Estate law                                 265\n",
      "Intellectual Property                           242\n",
      "Insurance                                       183\n",
      "Douche                                          170\n",
      "Wills Trusts and Estates                        166\n",
      "School Related Issues                           162\n",
      "Drug Possession                                 155\n",
      "Personal Injury                                 144\n",
      "Credit Debt Bankruptcy                          134\n",
      "Alcohol Related Other than DUI                  134\n",
      "Medicine and Malpractice                        121\n",
      "Immigration                                     102\n",
      "DUI                                              92\n",
      "Background Checks and Expungements               75\n",
      "Tax Law                                          64\n",
      "Healthcare Law including HIPAA                   57\n",
      "Searches and Seizures                            56\n",
      "Disability Issues                                53\n",
      "Constitution                                     41\n",
      "Mod Post                                          3\n",
      "all data 42160\n",
      "flaired data 7451\n",
      "number of flairs 29\n"
     ]
    }
   ],
   "source": [
    "json_path = os.getcwd() + \"/pretty_outfile_2014.json\"\n",
    "showFlairDist(json_path)"
   ]
  },
  {
   "cell_type": "markdown",
   "metadata": {
    "janus": {
     "all_versions_showing": false,
     "cell_hidden": false,
     "current_version": 0,
     "id": "0a5b20b698462",
     "named_versions": [],
     "output_hidden": false,
     "show_versions": false,
     "source_hidden": false,
     "versions": []
    }
   },
   "source": [
    "# 2013"
   ]
  },
  {
   "cell_type": "code",
   "execution_count": 30,
   "metadata": {
    "janus": {
     "all_versions_showing": false,
     "cell_hidden": false,
     "current_version": 0,
     "id": "8da89331c32ee",
     "named_versions": [],
     "output_hidden": false,
     "show_versions": false,
     "source_hidden": false,
     "versions": []
    }
   },
   "outputs": [
    {
     "name": "stdout",
     "output_type": "stream",
     "text": [
      "Mod Post                                          1\n",
      "Drug Possession                                   1\n",
      "all data 19685\n",
      "flaired data 2\n",
      "number of flairs 2\n"
     ]
    }
   ],
   "source": [
    "json_path = os.getcwd() + \"/pretty_outfile_2013.json\"\n",
    "showFlairDist(json_path)"
   ]
  },
  {
   "cell_type": "markdown",
   "metadata": {
    "janus": {
     "all_versions_showing": false,
     "cell_hidden": false,
     "current_version": 0,
     "id": "338e1b2335151",
     "named_versions": [],
     "output_hidden": false,
     "show_versions": false,
     "source_hidden": false,
     "versions": []
    }
   },
   "source": [
    "# 2012"
   ]
  },
  {
   "cell_type": "code",
   "execution_count": 31,
   "metadata": {
    "janus": {
     "all_versions_showing": false,
     "cell_hidden": false,
     "current_version": 0,
     "id": "e18a9bd2d051a",
     "named_versions": [],
     "output_hidden": false,
     "show_versions": false,
     "source_hidden": false,
     "versions": []
    }
   },
   "outputs": [
    {
     "name": "stdout",
     "output_type": "stream",
     "text": [
      "all data 5518\n",
      "flaired data 0\n",
      "number of flairs 0\n"
     ]
    }
   ],
   "source": [
    "json_path = os.getcwd() + \"/pretty_outfile_2012.json\"\n",
    "showFlairDist(json_path)"
   ]
  },
  {
   "cell_type": "markdown",
   "metadata": {
    "janus": {
     "all_versions_showing": false,
     "cell_hidden": false,
     "current_version": 0,
     "id": "2ba3d16caa096",
     "named_versions": [],
     "output_hidden": false,
     "show_versions": false,
     "source_hidden": false,
     "versions": []
    }
   },
   "source": [
    "# 2011"
   ]
  },
  {
   "cell_type": "code",
   "execution_count": 32,
   "metadata": {
    "janus": {
     "all_versions_showing": false,
     "cell_hidden": false,
     "current_version": 0,
     "id": "d6254b4b58e6e",
     "named_versions": [],
     "output_hidden": false,
     "show_versions": false,
     "source_hidden": false,
     "versions": []
    }
   },
   "outputs": [
    {
     "name": "stdout",
     "output_type": "stream",
     "text": [
      "all data 867\n",
      "flaired data 0\n",
      "number of flairs 0\n"
     ]
    }
   ],
   "source": [
    "json_path = os.getcwd() + \"/pretty_outfile_2011.json\"\n",
    "showFlairDist(json_path)"
   ]
  }
 ],
 "metadata": {
  "janus": {
   "filepaths": [
    [
     "fdf58ece",
     1587092293955,
     1587092838099
    ],
    [
     "48156a03",
     1587093064002,
     1587093197678
    ],
    [
     "b53a9355",
     1587093240184,
     1587094818379
    ]
   ],
   "janus_markers": [],
   "track_history": true
  },
  "kernelspec": {
   "display_name": "Python 3",
   "language": "python",
   "name": "python3"
  },
  "language_info": {
   "codemirror_mode": {
    "name": "ipython",
    "version": 3
   },
   "file_extension": ".py",
   "mimetype": "text/x-python",
   "name": "python",
   "nbconvert_exporter": "python",
   "pygments_lexer": "ipython3",
   "version": "3.8.0"
  }
 },
 "nbformat": 4,
 "nbformat_minor": 4
}
